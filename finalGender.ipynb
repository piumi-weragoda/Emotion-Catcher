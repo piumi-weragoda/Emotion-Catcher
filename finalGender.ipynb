{
  "nbformat": 4,
  "nbformat_minor": 0,
  "metadata": {
    "colab": {
      "provenance": []
    },
    "kernelspec": {
      "name": "python3",
      "display_name": "Python 3"
    },
    "language_info": {
      "name": "python"
    }
  },
  "cells": [
    {
      "cell_type": "code",
      "execution_count": 1,
      "metadata": {
        "colab": {
          "base_uri": "https://localhost:8080/"
        },
        "id": "TSrNjeC9o9Of",
        "outputId": "896d7004-c93e-4c2b-906c-4442b9f9594a"
      },
      "outputs": [
        {
          "output_type": "stream",
          "name": "stdout",
          "text": [
            "Mounted at /content/drive\n"
          ]
        }
      ],
      "source": [
        "# Mount the drive\n",
        "from google.colab import drive\n",
        "drive.mount('/content/drive', force_remount = True)"
      ]
    },
    {
      "cell_type": "code",
      "source": [
        "# Discard Warnings\n",
        "import warnings\n",
        "warnings.filterwarnings('ignore')"
      ],
      "metadata": {
        "id": "mqSySyAbpRXF"
      },
      "execution_count": 2,
      "outputs": []
    },
    {
      "cell_type": "code",
      "source": [
        "# Import packages\n",
        "import tensorflow as tf\n",
        "from tensorflow import keras\n",
        "from tensorflow.keras import layers\n",
        "import pandas as pd\n",
        "import numpy as np\n",
        "import os\n",
        "import tqdm\n",
        "from tensorflow.keras.models import Sequential\n",
        "from tensorflow.keras.layers import Dense, LSTM, Dropout\n",
        "from tensorflow.keras.callbacks import ModelCheckpoint, TensorBoard, EarlyStopping\n",
        "from sklearn.model_selection import train_test_split"
      ],
      "metadata": {
        "id": "EOJazBDZpcBo"
      },
      "execution_count": 3,
      "outputs": []
    },
    {
      "cell_type": "code",
      "source": [
        "# Print the current directory\n",
        "cwd = os.getcwd()\n",
        "print(cwd)\n",
        "\n",
        "# change the current directory to extract files\n",
        "os.chdir('/')\n",
        "\n",
        "# Print the current directory for confirmation\n",
        "cwd = os.getcwd()\n",
        "print(cwd)"
      ],
      "metadata": {
        "colab": {
          "base_uri": "https://localhost:8080/"
        },
        "id": "ct3uA6mppla4",
        "outputId": "adfe6402-250f-4174-a82c-aa957161f427"
      },
      "execution_count": 4,
      "outputs": [
        {
          "output_type": "stream",
          "name": "stdout",
          "text": [
            "/content\n",
            "/\n"
          ]
        }
      ]
    },
    {
      "cell_type": "code",
      "source": [
        "# Import the zip file and extract\n",
        "import zipfile\n",
        "\n",
        "with zipfile.ZipFile('/content/data.zip', 'r') as zip_ref:\n",
        "    zip_ref.extractall('.')"
      ],
      "metadata": {
        "id": "Mpmwn444pm2h"
      },
      "execution_count": 5,
      "outputs": []
    },
    {
      "cell_type": "code",
      "source": [
        "# Load balanced.csv and prints begining\n",
        "df = pd.read_csv(\"/content/drive/MyDrive/GenderDetection/balanced-all.csv\")\n",
        "df.head()"
      ],
      "metadata": {
        "colab": {
          "base_uri": "https://localhost:8080/",
          "height": 206
        },
        "id": "p251ShAqpqWy",
        "outputId": "2bb194e2-9704-4cab-aa9a-6424823ffcf3"
      },
      "execution_count": 6,
      "outputs": [
        {
          "output_type": "execute_result",
          "data": {
            "text/plain": [
              "                                filename  gender\n",
              "0  data/cv-other-train/sample-069205.npy  female\n",
              "1  data/cv-valid-train/sample-063134.npy  female\n",
              "2  data/cv-other-train/sample-080873.npy  female\n",
              "3  data/cv-other-train/sample-105595.npy  female\n",
              "4  data/cv-valid-train/sample-144613.npy  female"
            ],
            "text/html": [
              "\n",
              "  <div id=\"df-097f5805-9289-4198-846e-8326f3187c9a\">\n",
              "    <div class=\"colab-df-container\">\n",
              "      <div>\n",
              "<style scoped>\n",
              "    .dataframe tbody tr th:only-of-type {\n",
              "        vertical-align: middle;\n",
              "    }\n",
              "\n",
              "    .dataframe tbody tr th {\n",
              "        vertical-align: top;\n",
              "    }\n",
              "\n",
              "    .dataframe thead th {\n",
              "        text-align: right;\n",
              "    }\n",
              "</style>\n",
              "<table border=\"1\" class=\"dataframe\">\n",
              "  <thead>\n",
              "    <tr style=\"text-align: right;\">\n",
              "      <th></th>\n",
              "      <th>filename</th>\n",
              "      <th>gender</th>\n",
              "    </tr>\n",
              "  </thead>\n",
              "  <tbody>\n",
              "    <tr>\n",
              "      <th>0</th>\n",
              "      <td>data/cv-other-train/sample-069205.npy</td>\n",
              "      <td>female</td>\n",
              "    </tr>\n",
              "    <tr>\n",
              "      <th>1</th>\n",
              "      <td>data/cv-valid-train/sample-063134.npy</td>\n",
              "      <td>female</td>\n",
              "    </tr>\n",
              "    <tr>\n",
              "      <th>2</th>\n",
              "      <td>data/cv-other-train/sample-080873.npy</td>\n",
              "      <td>female</td>\n",
              "    </tr>\n",
              "    <tr>\n",
              "      <th>3</th>\n",
              "      <td>data/cv-other-train/sample-105595.npy</td>\n",
              "      <td>female</td>\n",
              "    </tr>\n",
              "    <tr>\n",
              "      <th>4</th>\n",
              "      <td>data/cv-valid-train/sample-144613.npy</td>\n",
              "      <td>female</td>\n",
              "    </tr>\n",
              "  </tbody>\n",
              "</table>\n",
              "</div>\n",
              "      <button class=\"colab-df-convert\" onclick=\"convertToInteractive('df-097f5805-9289-4198-846e-8326f3187c9a')\"\n",
              "              title=\"Convert this dataframe to an interactive table.\"\n",
              "              style=\"display:none;\">\n",
              "        \n",
              "  <svg xmlns=\"http://www.w3.org/2000/svg\" height=\"24px\"viewBox=\"0 0 24 24\"\n",
              "       width=\"24px\">\n",
              "    <path d=\"M0 0h24v24H0V0z\" fill=\"none\"/>\n",
              "    <path d=\"M18.56 5.44l.94 2.06.94-2.06 2.06-.94-2.06-.94-.94-2.06-.94 2.06-2.06.94zm-11 1L8.5 8.5l.94-2.06 2.06-.94-2.06-.94L8.5 2.5l-.94 2.06-2.06.94zm10 10l.94 2.06.94-2.06 2.06-.94-2.06-.94-.94-2.06-.94 2.06-2.06.94z\"/><path d=\"M17.41 7.96l-1.37-1.37c-.4-.4-.92-.59-1.43-.59-.52 0-1.04.2-1.43.59L10.3 9.45l-7.72 7.72c-.78.78-.78 2.05 0 2.83L4 21.41c.39.39.9.59 1.41.59.51 0 1.02-.2 1.41-.59l7.78-7.78 2.81-2.81c.8-.78.8-2.07 0-2.86zM5.41 20L4 18.59l7.72-7.72 1.47 1.35L5.41 20z\"/>\n",
              "  </svg>\n",
              "      </button>\n",
              "      \n",
              "  <style>\n",
              "    .colab-df-container {\n",
              "      display:flex;\n",
              "      flex-wrap:wrap;\n",
              "      gap: 12px;\n",
              "    }\n",
              "\n",
              "    .colab-df-convert {\n",
              "      background-color: #E8F0FE;\n",
              "      border: none;\n",
              "      border-radius: 50%;\n",
              "      cursor: pointer;\n",
              "      display: none;\n",
              "      fill: #1967D2;\n",
              "      height: 32px;\n",
              "      padding: 0 0 0 0;\n",
              "      width: 32px;\n",
              "    }\n",
              "\n",
              "    .colab-df-convert:hover {\n",
              "      background-color: #E2EBFA;\n",
              "      box-shadow: 0px 1px 2px rgba(60, 64, 67, 0.3), 0px 1px 3px 1px rgba(60, 64, 67, 0.15);\n",
              "      fill: #174EA6;\n",
              "    }\n",
              "\n",
              "    [theme=dark] .colab-df-convert {\n",
              "      background-color: #3B4455;\n",
              "      fill: #D2E3FC;\n",
              "    }\n",
              "\n",
              "    [theme=dark] .colab-df-convert:hover {\n",
              "      background-color: #434B5C;\n",
              "      box-shadow: 0px 1px 3px 1px rgba(0, 0, 0, 0.15);\n",
              "      filter: drop-shadow(0px 1px 2px rgba(0, 0, 0, 0.3));\n",
              "      fill: #FFFFFF;\n",
              "    }\n",
              "  </style>\n",
              "\n",
              "      <script>\n",
              "        const buttonEl =\n",
              "          document.querySelector('#df-097f5805-9289-4198-846e-8326f3187c9a button.colab-df-convert');\n",
              "        buttonEl.style.display =\n",
              "          google.colab.kernel.accessAllowed ? 'block' : 'none';\n",
              "\n",
              "        async function convertToInteractive(key) {\n",
              "          const element = document.querySelector('#df-097f5805-9289-4198-846e-8326f3187c9a');\n",
              "          const dataTable =\n",
              "            await google.colab.kernel.invokeFunction('convertToInteractive',\n",
              "                                                     [key], {});\n",
              "          if (!dataTable) return;\n",
              "\n",
              "          const docLinkHtml = 'Like what you see? Visit the ' +\n",
              "            '<a target=\"_blank\" href=https://colab.research.google.com/notebooks/data_table.ipynb>data table notebook</a>'\n",
              "            + ' to learn more about interactive tables.';\n",
              "          element.innerHTML = '';\n",
              "          dataTable['output_type'] = 'display_data';\n",
              "          await google.colab.output.renderOutput(dataTable, element);\n",
              "          const docLink = document.createElement('div');\n",
              "          docLink.innerHTML = docLinkHtml;\n",
              "          element.appendChild(docLink);\n",
              "        }\n",
              "      </script>\n",
              "    </div>\n",
              "  </div>\n",
              "  "
            ]
          },
          "metadata": {},
          "execution_count": 6
        }
      ]
    },
    {
      "cell_type": "code",
      "source": [
        "# Load balanced.csv and prints end\n",
        "df.tail()"
      ],
      "metadata": {
        "colab": {
          "base_uri": "https://localhost:8080/",
          "height": 206
        },
        "id": "8okieyonps9n",
        "outputId": "69bcc2b4-9775-4acd-c85d-1840242173eb"
      },
      "execution_count": 7,
      "outputs": [
        {
          "output_type": "execute_result",
          "data": {
            "text/plain": [
              "                                    filename gender\n",
              "66933  data/cv-valid-train/sample-171098.npy   male\n",
              "66934  data/cv-other-train/sample-022864.npy   male\n",
              "66935  data/cv-valid-train/sample-080933.npy   male\n",
              "66936  data/cv-other-train/sample-012026.npy   male\n",
              "66937  data/cv-other-train/sample-013841.npy   male"
            ],
            "text/html": [
              "\n",
              "  <div id=\"df-dab66c49-5c94-4000-ac2f-bcaec5926b50\">\n",
              "    <div class=\"colab-df-container\">\n",
              "      <div>\n",
              "<style scoped>\n",
              "    .dataframe tbody tr th:only-of-type {\n",
              "        vertical-align: middle;\n",
              "    }\n",
              "\n",
              "    .dataframe tbody tr th {\n",
              "        vertical-align: top;\n",
              "    }\n",
              "\n",
              "    .dataframe thead th {\n",
              "        text-align: right;\n",
              "    }\n",
              "</style>\n",
              "<table border=\"1\" class=\"dataframe\">\n",
              "  <thead>\n",
              "    <tr style=\"text-align: right;\">\n",
              "      <th></th>\n",
              "      <th>filename</th>\n",
              "      <th>gender</th>\n",
              "    </tr>\n",
              "  </thead>\n",
              "  <tbody>\n",
              "    <tr>\n",
              "      <th>66933</th>\n",
              "      <td>data/cv-valid-train/sample-171098.npy</td>\n",
              "      <td>male</td>\n",
              "    </tr>\n",
              "    <tr>\n",
              "      <th>66934</th>\n",
              "      <td>data/cv-other-train/sample-022864.npy</td>\n",
              "      <td>male</td>\n",
              "    </tr>\n",
              "    <tr>\n",
              "      <th>66935</th>\n",
              "      <td>data/cv-valid-train/sample-080933.npy</td>\n",
              "      <td>male</td>\n",
              "    </tr>\n",
              "    <tr>\n",
              "      <th>66936</th>\n",
              "      <td>data/cv-other-train/sample-012026.npy</td>\n",
              "      <td>male</td>\n",
              "    </tr>\n",
              "    <tr>\n",
              "      <th>66937</th>\n",
              "      <td>data/cv-other-train/sample-013841.npy</td>\n",
              "      <td>male</td>\n",
              "    </tr>\n",
              "  </tbody>\n",
              "</table>\n",
              "</div>\n",
              "      <button class=\"colab-df-convert\" onclick=\"convertToInteractive('df-dab66c49-5c94-4000-ac2f-bcaec5926b50')\"\n",
              "              title=\"Convert this dataframe to an interactive table.\"\n",
              "              style=\"display:none;\">\n",
              "        \n",
              "  <svg xmlns=\"http://www.w3.org/2000/svg\" height=\"24px\"viewBox=\"0 0 24 24\"\n",
              "       width=\"24px\">\n",
              "    <path d=\"M0 0h24v24H0V0z\" fill=\"none\"/>\n",
              "    <path d=\"M18.56 5.44l.94 2.06.94-2.06 2.06-.94-2.06-.94-.94-2.06-.94 2.06-2.06.94zm-11 1L8.5 8.5l.94-2.06 2.06-.94-2.06-.94L8.5 2.5l-.94 2.06-2.06.94zm10 10l.94 2.06.94-2.06 2.06-.94-2.06-.94-.94-2.06-.94 2.06-2.06.94z\"/><path d=\"M17.41 7.96l-1.37-1.37c-.4-.4-.92-.59-1.43-.59-.52 0-1.04.2-1.43.59L10.3 9.45l-7.72 7.72c-.78.78-.78 2.05 0 2.83L4 21.41c.39.39.9.59 1.41.59.51 0 1.02-.2 1.41-.59l7.78-7.78 2.81-2.81c.8-.78.8-2.07 0-2.86zM5.41 20L4 18.59l7.72-7.72 1.47 1.35L5.41 20z\"/>\n",
              "  </svg>\n",
              "      </button>\n",
              "      \n",
              "  <style>\n",
              "    .colab-df-container {\n",
              "      display:flex;\n",
              "      flex-wrap:wrap;\n",
              "      gap: 12px;\n",
              "    }\n",
              "\n",
              "    .colab-df-convert {\n",
              "      background-color: #E8F0FE;\n",
              "      border: none;\n",
              "      border-radius: 50%;\n",
              "      cursor: pointer;\n",
              "      display: none;\n",
              "      fill: #1967D2;\n",
              "      height: 32px;\n",
              "      padding: 0 0 0 0;\n",
              "      width: 32px;\n",
              "    }\n",
              "\n",
              "    .colab-df-convert:hover {\n",
              "      background-color: #E2EBFA;\n",
              "      box-shadow: 0px 1px 2px rgba(60, 64, 67, 0.3), 0px 1px 3px 1px rgba(60, 64, 67, 0.15);\n",
              "      fill: #174EA6;\n",
              "    }\n",
              "\n",
              "    [theme=dark] .colab-df-convert {\n",
              "      background-color: #3B4455;\n",
              "      fill: #D2E3FC;\n",
              "    }\n",
              "\n",
              "    [theme=dark] .colab-df-convert:hover {\n",
              "      background-color: #434B5C;\n",
              "      box-shadow: 0px 1px 3px 1px rgba(0, 0, 0, 0.15);\n",
              "      filter: drop-shadow(0px 1px 2px rgba(0, 0, 0, 0.3));\n",
              "      fill: #FFFFFF;\n",
              "    }\n",
              "  </style>\n",
              "\n",
              "      <script>\n",
              "        const buttonEl =\n",
              "          document.querySelector('#df-dab66c49-5c94-4000-ac2f-bcaec5926b50 button.colab-df-convert');\n",
              "        buttonEl.style.display =\n",
              "          google.colab.kernel.accessAllowed ? 'block' : 'none';\n",
              "\n",
              "        async function convertToInteractive(key) {\n",
              "          const element = document.querySelector('#df-dab66c49-5c94-4000-ac2f-bcaec5926b50');\n",
              "          const dataTable =\n",
              "            await google.colab.kernel.invokeFunction('convertToInteractive',\n",
              "                                                     [key], {});\n",
              "          if (!dataTable) return;\n",
              "\n",
              "          const docLinkHtml = 'Like what you see? Visit the ' +\n",
              "            '<a target=\"_blank\" href=https://colab.research.google.com/notebooks/data_table.ipynb>data table notebook</a>'\n",
              "            + ' to learn more about interactive tables.';\n",
              "          element.innerHTML = '';\n",
              "          dataTable['output_type'] = 'display_data';\n",
              "          await google.colab.output.renderOutput(dataTable, element);\n",
              "          const docLink = document.createElement('div');\n",
              "          docLink.innerHTML = docLinkHtml;\n",
              "          element.appendChild(docLink);\n",
              "        }\n",
              "      </script>\n",
              "    </div>\n",
              "  </div>\n",
              "  "
            ]
          },
          "metadata": {},
          "execution_count": 7
        }
      ]
    },
    {
      "cell_type": "code",
      "source": [
        "# get total samples\n",
        "n_samples = len(df)\n",
        "# get total male samples\n",
        "n_male_samples = len(df[df['gender'] == 'male'])\n",
        "# get total female samples\n",
        "n_female_samples = len(df[df['gender'] == 'female'])\n",
        "print(\"Total samples:\", n_samples)\n",
        "print(\"Total male samples:\", n_male_samples)\n",
        "print(\"Total female samples:\", n_female_samples)"
      ],
      "metadata": {
        "colab": {
          "base_uri": "https://localhost:8080/"
        },
        "id": "BWjXVN2XpwQG",
        "outputId": "b6d9f8be-0780-4802-a9f0-348d106790d4"
      },
      "execution_count": 8,
      "outputs": [
        {
          "output_type": "stream",
          "name": "stdout",
          "text": [
            "Total samples: 66938\n",
            "Total male samples: 33469\n",
            "Total female samples: 33469\n"
          ]
        }
      ]
    },
    {
      "cell_type": "code",
      "source": [
        "label2int = {\n",
        "    \"male\": 1,\n",
        "    \"female\": 0\n",
        "}\n",
        "\n",
        "def load_data(vector_length=128):\n",
        "    \"\"\"A function to load gender recognition dataset from `data` folder\n",
        "    After the second run, this will load from results/features.npy and results/labels.npy files\n",
        "    as it is much faster!\"\"\"\n",
        "    # make sure results folder exists\n",
        "    if not os.path.isdir(\"results\"):\n",
        "        os.mkdir(\"results\")\n",
        "    # if features & labels already loaded individually and bundled, load them from there instead\n",
        "    if os.path.isfile(\"results/features.npy\") and os.path.isfile(\"results/labels.npy\"):\n",
        "        X = np.load(\"results/features.npy\")\n",
        "        y = np.load(\"results/labels.npy\")\n",
        "        return X, y\n",
        "    # read dataframe\n",
        "    df = pd.read_csv(\"/content/drive/MyDrive/GenderDetection/balanced-all.csv\")\n",
        "    # get total samples\n",
        "    n_samples = len(df)\n",
        "    # get total male samples\n",
        "    n_male_samples = len(df[df['gender'] == 'male'])\n",
        "    # get total female samples\n",
        "    n_female_samples = len(df[df['gender'] == 'female'])\n",
        "    print(\"Total samples:\", n_samples)\n",
        "    print(\"Total male samples:\", n_male_samples)\n",
        "    print(\"Total female samples:\", n_female_samples)\n",
        "    # initialize an empty array for all audio features\n",
        "    X = np.zeros((n_samples, vector_length))\n",
        "    # initialize an empty array for all audio labels (1 for male and 0 for female)\n",
        "    y = np.zeros((n_samples, 1))\n",
        "    for i, (filename, gender) in tqdm.tqdm(enumerate(zip(df['filename'], df['gender'])), \"Loading data\", total=n_samples):\n",
        "        features = np.load(filename)\n",
        "        X[i] = features\n",
        "        y[i] = label2int[gender]\n",
        "    # save the audio features and labels into files\n",
        "    # so we won't load each one of them next run\n",
        "    np.save(\"results/features\", X)\n",
        "    np.save(\"results/labels\", y)\n",
        "    return X, y"
      ],
      "metadata": {
        "id": "JXTwpe6_pzwi"
      },
      "execution_count": 9,
      "outputs": []
    },
    {
      "cell_type": "code",
      "source": [
        "def split_data(X, y, test_size=0.1, valid_size=0.1):\n",
        "    # split training set and testing set\n",
        "    X_train, X_test, y_train, y_test = train_test_split(X, y, test_size=test_size, random_state=7)\n",
        "    # split training set and validation set\n",
        "    X_train, X_valid, y_train, y_valid = train_test_split(X_train, y_train, test_size=valid_size, random_state=7)\n",
        "    # return a dictionary of values\n",
        "    return {\n",
        "        \"X_train\": X_train,\n",
        "        \"X_valid\": X_valid,\n",
        "        \"X_test\": X_test,\n",
        "        \"y_train\": y_train,\n",
        "        \"y_valid\": y_valid,\n",
        "        \"y_test\": y_test\n",
        "    }"
      ],
      "metadata": {
        "id": "WDIidcuKp5sR"
      },
      "execution_count": 10,
      "outputs": []
    },
    {
      "cell_type": "code",
      "source": [
        "# load the dataset\n",
        "X, y = load_data()\n",
        "# split the data into training, validation and testing sets\n",
        "data = split_data(X, y, test_size=0.1, valid_size=0.1)"
      ],
      "metadata": {
        "colab": {
          "base_uri": "https://localhost:8080/"
        },
        "id": "x1HxjvVup9CF",
        "outputId": "f9ae8f5f-0c3e-492d-ebbc-758827b7b48a"
      },
      "execution_count": 11,
      "outputs": [
        {
          "output_type": "stream",
          "name": "stdout",
          "text": [
            "Total samples: 66938\n",
            "Total male samples: 33469\n",
            "Total female samples: 33469\n"
          ]
        },
        {
          "output_type": "stream",
          "name": "stderr",
          "text": [
            "Loading data: 100%|██████████| 66938/66938 [00:33<00:00, 2012.44it/s]\n"
          ]
        }
      ]
    },
    {
      "cell_type": "code",
      "source": [
        "# Prints the shape of traning, validation and test datasets\n",
        "print(np.shape(data[\"X_train\"]))\n",
        "print(np.shape(data[\"X_valid\"]))\n",
        "print(np.shape(data[\"X_test\"]))"
      ],
      "metadata": {
        "colab": {
          "base_uri": "https://localhost:8080/"
        },
        "id": "bVp_v8pbqBRD",
        "outputId": "5b788934-1879-474a-c8eb-545c3786dd88"
      },
      "execution_count": 12,
      "outputs": [
        {
          "output_type": "stream",
          "name": "stdout",
          "text": [
            "(54219, 128)\n",
            "(6025, 128)\n",
            "(6694, 128)\n"
          ]
        }
      ]
    },
    {
      "cell_type": "code",
      "source": [
        "# Installing required packages\n",
        "!pip install pydub\n",
        "!pip install noisereduce\n",
        "!pip install json-tricks"
      ],
      "metadata": {
        "colab": {
          "base_uri": "https://localhost:8080/"
        },
        "id": "sTXHeB0tqEfg",
        "outputId": "c4e30dba-d318-415e-fdc0-f8be59a31a1d"
      },
      "execution_count": 13,
      "outputs": [
        {
          "output_type": "stream",
          "name": "stdout",
          "text": [
            "Looking in indexes: https://pypi.org/simple, https://us-python.pkg.dev/colab-wheels/public/simple/\n",
            "Collecting pydub\n",
            "  Downloading pydub-0.25.1-py2.py3-none-any.whl (32 kB)\n",
            "Installing collected packages: pydub\n",
            "Successfully installed pydub-0.25.1\n",
            "Looking in indexes: https://pypi.org/simple, https://us-python.pkg.dev/colab-wheels/public/simple/\n",
            "Collecting noisereduce\n",
            "  Downloading noisereduce-2.0.1-py3-none-any.whl (15 kB)\n",
            "Requirement already satisfied: matplotlib in /usr/local/lib/python3.8/dist-packages (from noisereduce) (3.5.3)\n",
            "Requirement already satisfied: numpy in /usr/local/lib/python3.8/dist-packages (from noisereduce) (1.22.4)\n",
            "Requirement already satisfied: scipy in /usr/local/lib/python3.8/dist-packages (from noisereduce) (1.10.1)\n",
            "Requirement already satisfied: tqdm in /usr/local/lib/python3.8/dist-packages (from noisereduce) (4.64.1)\n",
            "Requirement already satisfied: librosa in /usr/local/lib/python3.8/dist-packages (from noisereduce) (0.8.1)\n",
            "Requirement already satisfied: joblib>=0.14 in /usr/local/lib/python3.8/dist-packages (from librosa->noisereduce) (1.2.0)\n",
            "Requirement already satisfied: soundfile>=0.10.2 in /usr/local/lib/python3.8/dist-packages (from librosa->noisereduce) (0.12.1)\n",
            "Requirement already satisfied: audioread>=2.0.0 in /usr/local/lib/python3.8/dist-packages (from librosa->noisereduce) (3.0.0)\n",
            "Requirement already satisfied: decorator>=3.0.0 in /usr/local/lib/python3.8/dist-packages (from librosa->noisereduce) (4.4.2)\n",
            "Requirement already satisfied: resampy>=0.2.2 in /usr/local/lib/python3.8/dist-packages (from librosa->noisereduce) (0.4.2)\n",
            "Requirement already satisfied: packaging>=20.0 in /usr/local/lib/python3.8/dist-packages (from librosa->noisereduce) (23.0)\n",
            "Requirement already satisfied: numba>=0.43.0 in /usr/local/lib/python3.8/dist-packages (from librosa->noisereduce) (0.56.4)\n",
            "Requirement already satisfied: scikit-learn!=0.19.0,>=0.14.0 in /usr/local/lib/python3.8/dist-packages (from librosa->noisereduce) (1.2.1)\n",
            "Requirement already satisfied: pooch>=1.0 in /usr/local/lib/python3.8/dist-packages (from librosa->noisereduce) (1.7.0)\n",
            "Requirement already satisfied: python-dateutil>=2.7 in /usr/local/lib/python3.8/dist-packages (from matplotlib->noisereduce) (2.8.2)\n",
            "Requirement already satisfied: fonttools>=4.22.0 in /usr/local/lib/python3.8/dist-packages (from matplotlib->noisereduce) (4.38.0)\n",
            "Requirement already satisfied: cycler>=0.10 in /usr/local/lib/python3.8/dist-packages (from matplotlib->noisereduce) (0.11.0)\n",
            "Requirement already satisfied: pyparsing>=2.2.1 in /usr/local/lib/python3.8/dist-packages (from matplotlib->noisereduce) (3.0.9)\n",
            "Requirement already satisfied: pillow>=6.2.0 in /usr/local/lib/python3.8/dist-packages (from matplotlib->noisereduce) (8.4.0)\n",
            "Requirement already satisfied: kiwisolver>=1.0.1 in /usr/local/lib/python3.8/dist-packages (from matplotlib->noisereduce) (1.4.4)\n",
            "Requirement already satisfied: setuptools in /usr/local/lib/python3.8/dist-packages (from numba>=0.43.0->librosa->noisereduce) (57.4.0)\n",
            "Requirement already satisfied: importlib-metadata in /usr/local/lib/python3.8/dist-packages (from numba>=0.43.0->librosa->noisereduce) (6.0.0)\n",
            "Requirement already satisfied: llvmlite<0.40,>=0.39.0dev0 in /usr/local/lib/python3.8/dist-packages (from numba>=0.43.0->librosa->noisereduce) (0.39.1)\n",
            "Requirement already satisfied: requests>=2.19.0 in /usr/local/lib/python3.8/dist-packages (from pooch>=1.0->librosa->noisereduce) (2.25.1)\n",
            "Requirement already satisfied: platformdirs>=2.5.0 in /usr/local/lib/python3.8/dist-packages (from pooch>=1.0->librosa->noisereduce) (3.0.0)\n",
            "Requirement already satisfied: six>=1.5 in /usr/local/lib/python3.8/dist-packages (from python-dateutil>=2.7->matplotlib->noisereduce) (1.15.0)\n",
            "Requirement already satisfied: threadpoolctl>=2.0.0 in /usr/local/lib/python3.8/dist-packages (from scikit-learn!=0.19.0,>=0.14.0->librosa->noisereduce) (3.1.0)\n",
            "Requirement already satisfied: cffi>=1.0 in /usr/local/lib/python3.8/dist-packages (from soundfile>=0.10.2->librosa->noisereduce) (1.15.1)\n",
            "Requirement already satisfied: pycparser in /usr/local/lib/python3.8/dist-packages (from cffi>=1.0->soundfile>=0.10.2->librosa->noisereduce) (2.21)\n",
            "Requirement already satisfied: chardet<5,>=3.0.2 in /usr/local/lib/python3.8/dist-packages (from requests>=2.19.0->pooch>=1.0->librosa->noisereduce) (4.0.0)\n",
            "Requirement already satisfied: idna<3,>=2.5 in /usr/local/lib/python3.8/dist-packages (from requests>=2.19.0->pooch>=1.0->librosa->noisereduce) (2.10)\n",
            "Requirement already satisfied: urllib3<1.27,>=1.21.1 in /usr/local/lib/python3.8/dist-packages (from requests>=2.19.0->pooch>=1.0->librosa->noisereduce) (1.26.14)\n",
            "Requirement already satisfied: certifi>=2017.4.17 in /usr/local/lib/python3.8/dist-packages (from requests>=2.19.0->pooch>=1.0->librosa->noisereduce) (2022.12.7)\n",
            "Requirement already satisfied: zipp>=0.5 in /usr/local/lib/python3.8/dist-packages (from importlib-metadata->numba>=0.43.0->librosa->noisereduce) (3.15.0)\n",
            "Installing collected packages: noisereduce\n",
            "Successfully installed noisereduce-2.0.1\n",
            "Looking in indexes: https://pypi.org/simple, https://us-python.pkg.dev/colab-wheels/public/simple/\n",
            "Collecting json-tricks\n",
            "  Downloading json_tricks-3.16.1-py2.py3-none-any.whl (27 kB)\n",
            "Installing collected packages: json-tricks\n",
            "Successfully installed json-tricks-3.16.1\n"
          ]
        }
      ]
    },
    {
      "cell_type": "code",
      "source": [
        "def create_model(vector_length=128):\n",
        "    \"\"\"5 hidden dense layers from 256 units to 64, not the best model.\"\"\"\n",
        "    model = Sequential()\n",
        "    model.add(Dense(256, input_shape=(vector_length,)))\n",
        "    model.add(Dropout(0.3))\n",
        "    model.add(Dense(256, activation=\"relu\"))\n",
        "    model.add(Dropout(0.3))\n",
        "    model.add(Dense(128, activation=\"relu\"))\n",
        "    model.add(Dropout(0.3))\n",
        "    model.add(Dense(128, activation=\"relu\"))\n",
        "    model.add(Dropout(0.3))\n",
        "    model.add(Dense(64, activation=\"relu\"))\n",
        "    model.add(Dropout(0.3))\n",
        "    # one output neuron with sigmoid activation function, 0 means female, 1 means male\n",
        "    model.add(Dense(1, activation=\"sigmoid\"))\n",
        "    # using binary crossentropy as it's male/female classification (binary)\n",
        "    model.compile(loss=\"binary_crossentropy\", metrics=[\"accuracy\"], optimizer=\"adam\")\n",
        "    # print summary of the model\n",
        "    model.summary()\n",
        "    return model"
      ],
      "metadata": {
        "id": "j_n69uKDqHuh"
      },
      "execution_count": 14,
      "outputs": []
    },
    {
      "cell_type": "code",
      "source": [
        "# construct the model\n",
        "model = create_model()"
      ],
      "metadata": {
        "colab": {
          "base_uri": "https://localhost:8080/"
        },
        "id": "cCHka9XHqLru",
        "outputId": "aac967b5-ece8-4270-efb1-d36a70877052"
      },
      "execution_count": 15,
      "outputs": [
        {
          "output_type": "stream",
          "name": "stdout",
          "text": [
            "Model: \"sequential\"\n",
            "_________________________________________________________________\n",
            " Layer (type)                Output Shape              Param #   \n",
            "=================================================================\n",
            " dense (Dense)               (None, 256)               33024     \n",
            "                                                                 \n",
            " dropout (Dropout)           (None, 256)               0         \n",
            "                                                                 \n",
            " dense_1 (Dense)             (None, 256)               65792     \n",
            "                                                                 \n",
            " dropout_1 (Dropout)         (None, 256)               0         \n",
            "                                                                 \n",
            " dense_2 (Dense)             (None, 128)               32896     \n",
            "                                                                 \n",
            " dropout_2 (Dropout)         (None, 128)               0         \n",
            "                                                                 \n",
            " dense_3 (Dense)             (None, 128)               16512     \n",
            "                                                                 \n",
            " dropout_3 (Dropout)         (None, 128)               0         \n",
            "                                                                 \n",
            " dense_4 (Dense)             (None, 64)                8256      \n",
            "                                                                 \n",
            " dropout_4 (Dropout)         (None, 64)                0         \n",
            "                                                                 \n",
            " dense_5 (Dense)             (None, 1)                 65        \n",
            "                                                                 \n",
            "=================================================================\n",
            "Total params: 156,545\n",
            "Trainable params: 156,545\n",
            "Non-trainable params: 0\n",
            "_________________________________________________________________\n"
          ]
        }
      ]
    },
    {
      "cell_type": "code",
      "source": [
        "# Import required libraries\n",
        "from keras.models import Sequential\n",
        "from keras import layers\n",
        "from keras import optimizers\n",
        "from keras import callbacks "
      ],
      "metadata": {
        "id": "MFAywoOHqRil"
      },
      "execution_count": 17,
      "outputs": []
    },
    {
      "cell_type": "code",
      "source": [
        "# Callbacks functions\n",
        "checkpoint_path = '/content/drive/My Drive/Colab Notebooks/best_weights.hdf5'\n",
        "\n",
        "#-> Save the best weights\n",
        "mcp_save = callbacks.ModelCheckpoint(checkpoint_path, save_best_only=True,\n",
        "                           monitor='val_categorical_accuracy',\n",
        "                           mode='max')"
      ],
      "metadata": {
        "id": "XZqxknqbqSg1"
      },
      "execution_count": 18,
      "outputs": []
    },
    {
      "cell_type": "code",
      "source": [
        "# use tensorboard to view metrics\n",
        "tensorboard = TensorBoard(log_dir=\"logs\")\n",
        "# define early stopping to stop training after 5 epochs of not improving\n",
        "early_stopping = EarlyStopping(mode=\"min\", patience=5, restore_best_weights=True)\n",
        "\n",
        "batch_size = 64\n",
        "epochs = 100\n",
        "# train the model using the training set and validating using validation set\n",
        "history = model.fit(data[\"X_train\"], data[\"y_train\"], epochs=epochs, batch_size=batch_size, validation_data=(data[\"X_valid\"], data[\"y_valid\"]),\n",
        "          callbacks=[tensorboard, early_stopping])"
      ],
      "metadata": {
        "colab": {
          "base_uri": "https://localhost:8080/"
        },
        "id": "mu1fgeaZqVr6",
        "outputId": "999b7101-7939-46d0-923b-3bf306399d23"
      },
      "execution_count": 19,
      "outputs": [
        {
          "output_type": "stream",
          "name": "stdout",
          "text": [
            "Epoch 1/100\n",
            "848/848 [==============================] - 17s 16ms/step - loss: 0.5579 - accuracy: 0.7630 - val_loss: 0.3694 - val_accuracy: 0.8473\n",
            "Epoch 2/100\n",
            "848/848 [==============================] - 17s 20ms/step - loss: 0.4135 - accuracy: 0.8389 - val_loss: 0.3481 - val_accuracy: 0.8627\n",
            "Epoch 3/100\n",
            "848/848 [==============================] - 8s 10ms/step - loss: 0.3765 - accuracy: 0.8539 - val_loss: 0.3215 - val_accuracy: 0.8666\n",
            "Epoch 4/100\n",
            "848/848 [==============================] - 11s 13ms/step - loss: 0.3623 - accuracy: 0.8615 - val_loss: 0.3177 - val_accuracy: 0.8802\n",
            "Epoch 5/100\n",
            "848/848 [==============================] - 10s 11ms/step - loss: 0.3419 - accuracy: 0.8685 - val_loss: 0.3015 - val_accuracy: 0.8825\n",
            "Epoch 6/100\n",
            "848/848 [==============================] - 12s 14ms/step - loss: 0.3398 - accuracy: 0.8713 - val_loss: 0.2854 - val_accuracy: 0.8923\n",
            "Epoch 7/100\n",
            "848/848 [==============================] - 11s 12ms/step - loss: 0.3229 - accuracy: 0.8757 - val_loss: 0.2828 - val_accuracy: 0.8933\n",
            "Epoch 8/100\n",
            "848/848 [==============================] - 12s 14ms/step - loss: 0.3144 - accuracy: 0.8790 - val_loss: 0.2680 - val_accuracy: 0.8998\n",
            "Epoch 9/100\n",
            "848/848 [==============================] - 16s 19ms/step - loss: 0.3129 - accuracy: 0.8807 - val_loss: 0.2809 - val_accuracy: 0.8908\n",
            "Epoch 10/100\n",
            "848/848 [==============================] - 9s 11ms/step - loss: 0.3068 - accuracy: 0.8836 - val_loss: 0.2609 - val_accuracy: 0.8964\n",
            "Epoch 11/100\n",
            "848/848 [==============================] - 12s 15ms/step - loss: 0.3036 - accuracy: 0.8833 - val_loss: 0.2666 - val_accuracy: 0.8951\n",
            "Epoch 12/100\n",
            "848/848 [==============================] - 12s 14ms/step - loss: 0.2998 - accuracy: 0.8869 - val_loss: 0.2510 - val_accuracy: 0.8979\n",
            "Epoch 13/100\n",
            "848/848 [==============================] - 8s 9ms/step - loss: 0.2960 - accuracy: 0.8875 - val_loss: 0.2729 - val_accuracy: 0.8913\n",
            "Epoch 14/100\n",
            "848/848 [==============================] - 11s 13ms/step - loss: 0.2917 - accuracy: 0.8897 - val_loss: 0.2479 - val_accuracy: 0.9032\n",
            "Epoch 15/100\n",
            "848/848 [==============================] - 14s 17ms/step - loss: 0.2835 - accuracy: 0.8927 - val_loss: 0.2502 - val_accuracy: 0.9016\n",
            "Epoch 16/100\n",
            "848/848 [==============================] - 14s 16ms/step - loss: 0.2828 - accuracy: 0.8929 - val_loss: 0.2501 - val_accuracy: 0.9016\n",
            "Epoch 17/100\n",
            "848/848 [==============================] - 9s 10ms/step - loss: 0.2801 - accuracy: 0.8941 - val_loss: 0.2449 - val_accuracy: 0.9066\n",
            "Epoch 18/100\n",
            "848/848 [==============================] - 10s 12ms/step - loss: 0.2793 - accuracy: 0.8941 - val_loss: 0.2468 - val_accuracy: 0.9085\n",
            "Epoch 19/100\n",
            "848/848 [==============================] - 14s 16ms/step - loss: 0.2808 - accuracy: 0.8947 - val_loss: 0.2531 - val_accuracy: 0.9007\n",
            "Epoch 20/100\n",
            "848/848 [==============================] - 17s 20ms/step - loss: 0.2761 - accuracy: 0.8972 - val_loss: 0.2424 - val_accuracy: 0.9061\n",
            "Epoch 21/100\n",
            "848/848 [==============================] - 13s 16ms/step - loss: 0.2768 - accuracy: 0.8978 - val_loss: 0.2684 - val_accuracy: 0.9011\n",
            "Epoch 22/100\n",
            "848/848 [==============================] - 9s 10ms/step - loss: 0.2773 - accuracy: 0.8944 - val_loss: 0.2382 - val_accuracy: 0.9112\n",
            "Epoch 23/100\n",
            "848/848 [==============================] - 8s 9ms/step - loss: 0.2736 - accuracy: 0.8979 - val_loss: 0.2389 - val_accuracy: 0.9097\n",
            "Epoch 24/100\n",
            "848/848 [==============================] - 10s 11ms/step - loss: 0.2688 - accuracy: 0.8994 - val_loss: 0.2297 - val_accuracy: 0.9125\n",
            "Epoch 25/100\n",
            "848/848 [==============================] - 7s 9ms/step - loss: 0.2680 - accuracy: 0.9007 - val_loss: 0.2477 - val_accuracy: 0.9109\n",
            "Epoch 26/100\n",
            "848/848 [==============================] - 10s 11ms/step - loss: 0.2664 - accuracy: 0.8997 - val_loss: 0.2468 - val_accuracy: 0.9090\n",
            "Epoch 27/100\n",
            "848/848 [==============================] - 8s 9ms/step - loss: 0.2699 - accuracy: 0.8982 - val_loss: 0.2452 - val_accuracy: 0.9094\n",
            "Epoch 28/100\n",
            "848/848 [==============================] - 10s 12ms/step - loss: 0.2628 - accuracy: 0.9014 - val_loss: 0.2452 - val_accuracy: 0.9074\n",
            "Epoch 29/100\n",
            "848/848 [==============================] - 11s 13ms/step - loss: 0.2656 - accuracy: 0.9010 - val_loss: 0.2319 - val_accuracy: 0.9132\n"
          ]
        }
      ]
    },
    {
      "cell_type": "code",
      "source": [
        "# evaluating the model using the testing set\n",
        "print(f\"Evaluating the model using {len(data['X_test'])} samples...\")\n",
        "loss, accuracy = model.evaluate(data[\"X_test\"], data[\"y_test\"], verbose=0)\n",
        "print(f\"Loss: {loss:.4f}\")\n",
        "print(f\"Accuracy: {accuracy*100:.2f}%\")"
      ],
      "metadata": {
        "colab": {
          "base_uri": "https://localhost:8080/"
        },
        "id": "wAYzXo1gsk_M",
        "outputId": "673b30e1-e838-47d2-9adc-111bbca102ea"
      },
      "execution_count": 20,
      "outputs": [
        {
          "output_type": "stream",
          "name": "stdout",
          "text": [
            "Evaluating the model using 6694 samples...\n",
            "Loss: 0.2350\n",
            "Accuracy: 91.46%\n"
          ]
        }
      ]
    },
    {
      "cell_type": "code",
      "source": [
        "# Validation score\n",
        "loss,acc = model.evaluate(data[\"X_valid\"], data[\"y_valid\"], verbose=2)"
      ],
      "metadata": {
        "colab": {
          "base_uri": "https://localhost:8080/"
        },
        "id": "k8twvYNGsqkv",
        "outputId": "1cc43418-9379-40cc-a942-42cba23834b9"
      },
      "execution_count": 21,
      "outputs": [
        {
          "output_type": "stream",
          "name": "stdout",
          "text": [
            "189/189 - 1s - loss: 0.2297 - accuracy: 0.9125 - 976ms/epoch - 5ms/step\n"
          ]
        }
      ]
    },
    {
      "cell_type": "code",
      "source": [
        "# Importing the relevant libraries\n",
        "from sklearn.metrics import confusion_matrix\n",
        "import seaborn as sns\n",
        "import matplotlib.pyplot as plt "
      ],
      "metadata": {
        "id": "cq8UrKQlswfr"
      },
      "execution_count": 22,
      "outputs": []
    },
    {
      "cell_type": "code",
      "source": [
        "#Loss prediction for trained and validation dataset\n",
        "\n",
        "plt.plot(history.history['loss'], label='Loss (training data)')\n",
        "plt.plot(history.history['val_loss'], label='Loss (validation data)')\n",
        "plt.title('Loss for train and validation')\n",
        "plt.ylabel('Loss value')\n",
        "plt.xlabel('No. epoch')\n",
        "plt.legend(loc=\"upper left\")\n",
        "plt.show()\n"
      ],
      "metadata": {
        "colab": {
          "base_uri": "https://localhost:8080/",
          "height": 295
        },
        "id": "BRLg6g7hs6Dl",
        "outputId": "f44c052d-6083-432a-8b8b-c560d04aba38"
      },
      "execution_count": 23,
      "outputs": [
        {
          "output_type": "display_data",
          "data": {
            "text/plain": [
              "<Figure size 432x288 with 1 Axes>"
            ],
            "image/png": "[encoded data removed]"
          },
          "metadata": {
            "needs_background": "light"
          }
        }
      ]
    },
    {
      "cell_type": "code",
      "source": [
        "# Save the model to a file\n",
        "model.save(\"/content/drive/MyDrive/GenderDetection/model.h5\")\n",
        "print(model)"
      ],
      "metadata": {
        "colab": {
          "base_uri": "https://localhost:8080/"
        },
        "id": "KTHuBfSwqZNj",
        "outputId": "6fa48dbf-e9c3-4ea0-c2d5-6f6fc6cbbdfe"
      },
      "execution_count": 28,
      "outputs": [
        {
          "output_type": "stream",
          "name": "stdout",
          "text": [
            "<keras.engine.sequential.Sequential object at 0x7f74bbd83e50>\n"
          ]
        }
      ]
    },
    {
      "cell_type": "code",
      "source": [
        "from keras.models import model_from_json\n",
        "from keras.models import load_model\n",
        "\n",
        "model_json = model.to_json()\n",
        "saved_model_path = '/content/drive/MyDrive/GenderDetection/modelLSTM.json'\n",
        "saved_weights_path = '/content/drive/MyDrive/GenderDetection/modelLSTM_weights.h5'\n",
        "\n",
        "\n",
        "with open(saved_model_path, \"w\") as json_file:\n",
        "    json_file.write(model_json)\n",
        "    \n",
        "model.save_weights(saved_weights_path)\n",
        "print(\"Saved model to disk\")"
      ],
      "metadata": {
        "colab": {
          "base_uri": "https://localhost:8080/"
        },
        "id": "HGh8uU7uvv7N",
        "outputId": "80a47b29-a6b0-4292-ec07-3a9eaa96cb87"
      },
      "execution_count": 29,
      "outputs": [
        {
          "output_type": "stream",
          "name": "stdout",
          "text": [
            "Saved model to disk\n"
          ]
        }
      ]
    },
    {
      "cell_type": "code",
      "source": [
        "!apt install libasound2-dev portaudio19-dev libportaudio2 libportaudiocpp0 ffmpeg"
      ],
      "metadata": {
        "colab": {
          "base_uri": "https://localhost:8080/"
        },
        "id": "Kn1xbNw3twl4",
        "outputId": "e4549937-780d-4996-cbca-321ab491ef98"
      },
      "execution_count": 30,
      "outputs": [
        {
          "output_type": "stream",
          "name": "stdout",
          "text": [
            "Reading package lists... Done\n",
            "Building dependency tree       \n",
            "Reading state information... Done\n",
            "libasound2-dev is already the newest version (1.2.2-2.1ubuntu2.5).\n",
            "ffmpeg is already the newest version (7:4.2.7-0ubuntu0.1).\n",
            "Suggested packages:\n",
            "  portaudio19-doc\n",
            "The following NEW packages will be installed:\n",
            "  libportaudio2 libportaudiocpp0 portaudio19-dev\n",
            "0 upgraded, 3 newly installed, 0 to remove and 22 not upgraded.\n",
            "Need to get 188 kB of archives.\n",
            "After this operation, 926 kB of additional disk space will be used.\n",
            "Get:1 http://archive.ubuntu.com/ubuntu focal/universe amd64 libportaudio2 amd64 19.6.0-1build1 [65.4 kB]\n",
            "Get:2 http://archive.ubuntu.com/ubuntu focal/universe amd64 libportaudiocpp0 amd64 19.6.0-1build1 [16.1 kB]\n",
            "Get:3 http://archive.ubuntu.com/ubuntu focal/universe amd64 portaudio19-dev amd64 19.6.0-1build1 [106 kB]\n",
            "Fetched 188 kB in 0s (741 kB/s)\n",
            "Selecting previously unselected package libportaudio2:amd64.\n",
            "(Reading database ... 128215 files and directories currently installed.)\n",
            "Preparing to unpack .../libportaudio2_19.6.0-1build1_amd64.deb ...\n",
            "Unpacking libportaudio2:amd64 (19.6.0-1build1) ...\n",
            "Selecting previously unselected package libportaudiocpp0:amd64.\n",
            "Preparing to unpack .../libportaudiocpp0_19.6.0-1build1_amd64.deb ...\n",
            "Unpacking libportaudiocpp0:amd64 (19.6.0-1build1) ...\n",
            "Selecting previously unselected package portaudio19-dev:amd64.\n",
            "Preparing to unpack .../portaudio19-dev_19.6.0-1build1_amd64.deb ...\n",
            "Unpacking portaudio19-dev:amd64 (19.6.0-1build1) ...\n",
            "Setting up libportaudio2:amd64 (19.6.0-1build1) ...\n",
            "Setting up libportaudiocpp0:amd64 (19.6.0-1build1) ...\n",
            "Setting up portaudio19-dev:amd64 (19.6.0-1build1) ...\n",
            "Processing triggers for libc-bin (2.31-0ubuntu9.9) ...\n"
          ]
        }
      ]
    },
    {
      "cell_type": "code",
      "source": [
        "!pip install PyAudio"
      ],
      "metadata": {
        "colab": {
          "base_uri": "https://localhost:8080/"
        },
        "id": "CUu4qO2PtyLh",
        "outputId": "ff13c22c-5b67-4db6-f94b-82dea9ccf2ea"
      },
      "execution_count": 31,
      "outputs": [
        {
          "output_type": "stream",
          "name": "stdout",
          "text": [
            "Looking in indexes: https://pypi.org/simple, https://us-python.pkg.dev/colab-wheels/public/simple/\n",
            "Collecting PyAudio\n",
            "  Downloading PyAudio-0.2.13.tar.gz (46 kB)\n",
            "\u001b[2K     \u001b[90m━━━━━━━━━━━━━━━━━━━━━━━━━━━━━━━━━━━━━━━━\u001b[0m \u001b[32m46.8/46.8 KB\u001b[0m \u001b[31m3.0 MB/s\u001b[0m eta \u001b[36m0:00:00\u001b[0m\n",
            "\u001b[?25h  Installing build dependencies ... \u001b[?25l\u001b[?25hdone\n",
            "  Getting requirements to build wheel ... \u001b[?25l\u001b[?25hdone\n",
            "  Preparing metadata (pyproject.toml) ... \u001b[?25l\u001b[?25hdone\n",
            "Building wheels for collected packages: PyAudio\n",
            "  Building wheel for PyAudio (pyproject.toml) ... \u001b[?25l\u001b[?25hdone\n",
            "  Created wheel for PyAudio: filename=PyAudio-0.2.13-cp38-cp38-linux_x86_64.whl size=69725 sha256=534d0828c9adb6cf06fa6ceb981b348bb5d9eb8e9894fe45cd43a06443fec718\n",
            "  Stored in directory: /root/.cache/pip/wheels/c9/64/0b/9a483698792349f565ecc45c5ee3f1efb2ce79464f6d9daf53\n",
            "Successfully built PyAudio\n",
            "Installing collected packages: PyAudio\n",
            "Successfully installed PyAudio-0.2.13\n"
          ]
        }
      ]
    },
    {
      "cell_type": "code",
      "source": [
        "# Checking for External Inputs and Validation\n",
        "# Retrive the file path\n",
        "file_name = \"/content/drive/MyDrive/VoiceData/1008_IEO_SAD_HI.wav\""
      ],
      "metadata": {
        "id": "lzOK70hUtWz3"
      },
      "execution_count": 57,
      "outputs": []
    },
    {
      "cell_type": "code",
      "source": [
        "# Load file data\n",
        "import librosa\n",
        "array, sample_rate = librosa.core.load(file_name)"
      ],
      "metadata": {
        "id": "iEUDTWDRwtNd"
      },
      "execution_count": 58,
      "outputs": []
    },
    {
      "cell_type": "code",
      "source": [
        "def extract_feature(file_name, **kwargs):\n",
        "    \"\"\"\n",
        "    Extract feature from audio file `file_name`\n",
        "        Features supported:\n",
        "            - MFCC (mfcc)\n",
        "            - Chroma (chroma)\n",
        "            - MEL Spectrogram Frequency (mel)\n",
        "            - Contrast (contrast)\n",
        "            - Tonnetz (tonnetz)\n",
        "        e.g:\n",
        "        `features = extract_feature(path, mel=True, mfcc=True)`\n",
        "    \"\"\"\n",
        "    mfcc = kwargs.get(\"mfcc\")\n",
        "    chroma = kwargs.get(\"chroma\")\n",
        "    mel = kwargs.get(\"mel\")\n",
        "    contrast = kwargs.get(\"contrast\")\n",
        "    tonnetz = kwargs.get(\"tonnetz\")\n",
        "    # array, sample_rate = librosa.core.load(file_name)\n",
        "    if chroma or contrast:\n",
        "        stft = np.abs(librosa.stft(array))\n",
        "    result = np.array([])\n",
        "    if mfcc:\n",
        "        mfccs = np.mean(librosa.feature.mfcc(y=array, sr=sample_rate, n_mfcc=40).T, axis=0)\n",
        "        result = np.hstack((result, mfccs))\n",
        "    if chroma:\n",
        "        chroma = np.mean(librosa.feature.chroma_stft(S=stft, sr=sample_rate).T,axis=0)\n",
        "        result = np.hstack((result, chroma))\n",
        "    if mel:\n",
        "        mel = np.mean(librosa.feature.melspectrogram(array, sr=sample_rate).T,axis=0)\n",
        "        result = np.hstack((result, mel))\n",
        "    if contrast:\n",
        "        contrast = np.mean(librosa.feature.spectral_contrast(S=stft, sr=sample_rate).T,axis=0)\n",
        "        result = np.hstack((result, contrast))\n",
        "    if tonnetz:\n",
        "        tonnetz = np.mean(librosa.feature.tonnetz(y=librosa.effects.harmonic(array), sr=sample_rate).T,axis=0)\n",
        "        result = np.hstack((result, tonnetz))\n",
        "    return result\n",
        "\n",
        "\n",
        "if __name__ == \"__main__\":\n",
        "    # load the saved model (after training)\n",
        "    # model = pickle.load(open(\"result/mlp_classifier.model\", \"rb\"))\n",
        "    # from utils import load_data, split_data, create_model\n",
        "    import argparse\n",
        "    parser = argparse.ArgumentParser(description=\"\"\"Gender recognition script, this will load the model you trained, \n",
        "                                    and perform inference on a sample you provide (either using your voice or a file)\"\"\")\n",
        "    parser.add_argument(\"-f\", \"--file\", help=\"The path to the file, preferred to be in WAV format\")\n",
        "    args = parser.parse_args()\n",
        "    file = args.file\n",
        "    # construct the model\n",
        "    model = create_model()\n",
        "    # load the saved/trained weights\n",
        "    model.load_weights(\"/content/drive/MyDrive/GenderDetection/model.h5\")\n",
        "    features = extract_feature(file, mel=True).reshape(1, -1)\n",
        "    # predict the gender!\n",
        "    male_prob = model.predict(features)[0][0]\n",
        "    female_prob = 1 - male_prob\n",
        "    gender = \"male\" if male_prob > female_prob else \"female\"\n",
        "    # show the result!\n",
        "    print(\"Result:\", gender)\n",
        "    print(f\"Probabilities:     Male: {male_prob*100:.2f}%    Female: {female_prob*100:.2f}%\")\n",
        "\n",
        "    # Results Demostration\n",
        "    gender = ['Male', 'Female']\n",
        "    Probability = [male_prob, female_prob]\n",
        "    fig = plt.figure(figsize = (3, 6))\n",
        "    plt.bar(gender, Probability, color = 'darkblue')\n",
        "    plt.ylabel(\"Probabilty (%)\")\n",
        "    plt.title(\"Percentage Predictions\")\n",
        "    plt.show()\n",
        "\n",
        "    print(file_name)"
      ],
      "metadata": {
        "colab": {
          "base_uri": "https://localhost:8080/",
          "height": 997
        },
        "id": "b5QVpniVw6hB",
        "outputId": "ae8e887b-80c5-424b-8583-dddf4ea1c60b"
      },
      "execution_count": 59,
      "outputs": [
        {
          "output_type": "stream",
          "name": "stdout",
          "text": [
            "Model: \"sequential_12\"\n",
            "_________________________________________________________________\n",
            " Layer (type)                Output Shape              Param #   \n",
            "=================================================================\n",
            " dense_72 (Dense)            (None, 256)               33024     \n",
            "                                                                 \n",
            " dropout_60 (Dropout)        (None, 256)               0         \n",
            "                                                                 \n",
            " dense_73 (Dense)            (None, 256)               65792     \n",
            "                                                                 \n",
            " dropout_61 (Dropout)        (None, 256)               0         \n",
            "                                                                 \n",
            " dense_74 (Dense)            (None, 128)               32896     \n",
            "                                                                 \n",
            " dropout_62 (Dropout)        (None, 128)               0         \n",
            "                                                                 \n",
            " dense_75 (Dense)            (None, 128)               16512     \n",
            "                                                                 \n",
            " dropout_63 (Dropout)        (None, 128)               0         \n",
            "                                                                 \n",
            " dense_76 (Dense)            (None, 64)                8256      \n",
            "                                                                 \n",
            " dropout_64 (Dropout)        (None, 64)                0         \n",
            "                                                                 \n",
            " dense_77 (Dense)            (None, 1)                 65        \n",
            "                                                                 \n",
            "=================================================================\n",
            "Total params: 156,545\n",
            "Trainable params: 156,545\n",
            "Non-trainable params: 0\n",
            "_________________________________________________________________\n",
            "1/1 [==============================] - 0s 114ms/step\n",
            "Result: female\n",
            "Probabilities:     Male: 4.94%    Female: 95.06%\n"
          ]
        },
        {
          "output_type": "display_data",
          "data": {
            "text/plain": [
              "<Figure size 216x432 with 1 Axes>"
            ],
            "image/png": "[encoded data removed]"
          },
          "metadata": {
            "needs_background": "light"
          }
        },
        {
          "output_type": "stream",
          "name": "stdout",
          "text": [
            "/content/drive/MyDrive/VoiceData/1008_IEO_SAD_HI.wav\n"
          ]
        }
      ]
    },
    {
      "cell_type": "code",
      "source": [],
      "metadata": {
        "id": "yeEgF8wXx28h"
      },
      "execution_count": null,
      "outputs": []
    }
  ]
}